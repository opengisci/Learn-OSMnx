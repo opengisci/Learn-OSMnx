{
 "cells": [
  {
   "cell_type": "markdown",
   "metadata": {
    "tags": []
   },
   "source": [
    "## Query OSM Data for VT and Build Road Network\n",
    "---\n",
    "\n",
    "Authors: Joseph Holler\n",
    "\n",
    "Reproduction Materials Available at: https://github.com/samroubin/VTPharmacy/tree/main\n",
    "\n",
    "Created: `2024-01-14`\n",
    "Revised: `2024-01-29`"
   ]
  },
  {
   "cell_type": "markdown",
   "metadata": {
    "tags": []
   },
   "source": [
    "### Purpose\n",
    "This notebook was used only to query OpenStreetMap data and build and save a network graph of roads in and near Vermont.\n",
    "This road graph has been saved and provided with the research compendium on OSF because the CyberGISX system with public resources is too slow to query and process the data from OSM."
   ]
  },
  {
   "cell_type": "markdown",
   "metadata": {},
   "source": [
    "### Computational Environment\n",
    "In order for OSMNX to work in a new environment, it is highly recommended to install with these instructions https://osmnx.readthedocs.io/en/stable/installation.html to create a new environment with the OSMNX package: \n",
    "```\n",
    "conda create -n ox -c conda-forge --strict-channel-priority osmnx\n",
    "```\n",
    "Or create a new environment and install OSMNX as the first package. \n",
    "This notebook was run with Python version 3.12.1 and osmnx version 1.8.1."
   ]
  },
  {
   "cell_type": "markdown",
   "metadata": {},
   "source": [
    "### Modules\n",
    "Import necessary libraries to run this model.\n",
    "See `environment.yml` for the library versions used for this analysis."
   ]
  },
  {
   "cell_type": "code",
   "execution_count": null,
   "metadata": {},
   "outputs": [],
   "source": [
    "# Import modules\n",
    "import pandas as pd\n",
    "import geopandas as gpd\n",
    "import networkx as nx\n",
    "import osmnx as ox\n",
    "from IPython.display import display, clear_output\n",
    "from shapely.ops import nearest_points   #for hospital_setting function\n",
    "import warnings\n",
    "import os\n",
    "from shapely.geometry import Point, LineString, Polygon\n",
    "import sys\n",
    "\n",
    "warnings.filterwarnings(\"ignore\")\n",
    "print('\\n'.join(f'{m.__name__}=={m.__version__}' for m in globals().values() if getattr(m, '__version__', None)))\n",
    "print(\"Python version:\", sys.version)"
   ]
  },
  {
   "cell_type": "markdown",
   "metadata": {
    "tags": []
   },
   "source": [
    "## Check Directories\n"
   ]
  },
  {
   "cell_type": "code",
   "execution_count": null,
   "metadata": {},
   "outputs": [],
   "source": [
    "# Check working directory\n",
    "os.getcwd()"
   ]
  },
  {
   "cell_type": "code",
   "execution_count": null,
   "metadata": {
    "tags": []
   },
   "outputs": [],
   "source": [
    "# Use to set work directory properly\n",
    "if os.path.basename(os.getcwd()) == 'code':\n",
    "    os.chdir('../../')\n",
    "os.getcwd()"
   ]
  },
  {
   "cell_type": "markdown",
   "metadata": {},
   "source": [
    "### Load the Road Network\n",
    "\n",
    "If `osm_roads.graphml` does not already exist, this cell will query the road network from OpenStreetMap.  \n",
    "\n",
    "For very large regions, this can take several hours. On July 9, 2024, the full New England region took 4 hours and 45 minutes."
   ]
  },
  {
   "cell_type": "code",
   "execution_count": null,
   "metadata": {},
   "outputs": [],
   "source": [
    "%%time\n",
    "# To create a new graph from OpenStreetMap, delete or rename the graph file (if it exists)\n",
    "# AND set OSM to True\n",
    "# This is more likely to work on a local computer than CyberGISX\n",
    "\n",
    "# Define the place name for Vermont\n",
    "places = ['Vermont, USA', 'Massachusetts, USA', 'New Hampshire, USA', 'Rhode Island, USA', 'Connecticut, USA', 'Maine, USA']\n",
    "\n",
    "roads_path = \"./data/raw/private/osm_roads.graphml\"\n",
    "\n",
    "# if buffered street network is not saved, and OSM is preferred, generate a new graph from OpenStreetMap and save it\n",
    "if not os.path.exists(roads_path):\n",
    "    print(\"Loading buffered road network from OpenStreetMap. Please wait... runtime may exceed 9min...\", flush=True)\n",
    "    G = ox.graph_from_place(places, network_type='drive') \n",
    "    print(\"Saving road network to\", roads_path, \" Please wait...\", flush=True)\n",
    "    ox.save_graphml(G, roads_path)\n",
    "    print(\"Data saved.\")\n",
    "      \n",
    "# load the saved network graph\n",
    "if os.path.exists(roads_path):\n",
    "    print(\"Loading road network from\", roads_path, \"Please wait...\", flush=True)\n",
    "    G = ox.load_graphml(roads_path) \n",
    "    print(\"Data loaded.\") \n",
    "else:\n",
    "    print(\"Error: could not load the road network from file.\")"
   ]
  },
  {
   "cell_type": "markdown",
   "metadata": {},
   "source": [
    "### Save geopackage of the network\n",
    "This will take a long time with large graphs."
   ]
  },
  {
   "cell_type": "code",
   "execution_count": null,
   "metadata": {},
   "outputs": [],
   "source": [
    "ox.io.save_graph_geopackage(G, \"./data/derived/private/osm_roads.gpkg\")"
   ]
  },
  {
   "cell_type": "markdown",
   "metadata": {},
   "source": [
    "### Check speed data\n",
    "The code below converts the graph into geopandas edges (lines) and nodes (points). \n",
    "It then counts frequences of `maxspeed` key values for each edge and outputs a summary.\n",
    "There is probably a better way to do this with teh graph itself rather than converting to geopandas first... as is, the runtime is slow."
   ]
  },
  {
   "cell_type": "code",
   "execution_count": null,
   "metadata": {},
   "outputs": [],
   "source": [
    "%%time\n",
    "# Turn network edges into a geodataframe\n",
    "edges = ox.graph_to_gdfs(G, nodes=False, edges=True)\n",
    "\n",
    "# Count frequency of each speed value\n",
    "speed_values = edges['maxspeed'].value_counts()\n",
    "\n",
    "# Ouput number of edges and frequences of speed values\n",
    "print(str(len(edges)) + \" edges in graph\")\n",
    "print(speed_values.to_string())"
   ]
  },
  {
   "cell_type": "markdown",
   "metadata": {},
   "source": [
    "### Speed and time\n",
    "Correct speed limits (in kilometers per hour) and calculate travel times (in seconds)"
   ]
  },
  {
   "cell_type": "code",
   "execution_count": null,
   "metadata": {},
   "outputs": [],
   "source": [
    "%%time\n",
    "ox.speed.add_edge_speeds(G)\n",
    "ox.speed.add_edge_travel_times(G)"
   ]
  },
  {
   "cell_type": "markdown",
   "metadata": {},
   "source": [
    "### Plot the graph\n",
    "This takes a long time to run, and I don't recommend it with very large graphs."
   ]
  },
  {
   "cell_type": "code",
   "execution_count": null,
   "metadata": {},
   "outputs": [],
   "source": [
    "%%time\n",
    "ox.plot_graph(G, node_size = 1, bgcolor = 'white', node_color = 'black', edge_color = \"#333333\", node_alpha = 0.3, edge_linewidth = 0.5)"
   ]
  },
  {
   "cell_type": "markdown",
   "metadata": {},
   "source": [
    "Display all the unique highway types, which are used to impute the speed limits for each category of highway."
   ]
  },
  {
   "cell_type": "code",
   "execution_count": null,
   "metadata": {},
   "outputs": [],
   "source": [
    "# view all highway types\n",
    "print(edges['highway'].value_counts())"
   ]
  },
  {
   "cell_type": "markdown",
   "metadata": {},
   "source": [
    "### Save geopackage of the network\n",
    "This will take a long time with large graphs."
   ]
  },
  {
   "cell_type": "code",
   "execution_count": null,
   "metadata": {},
   "outputs": [],
   "source": [
    "ox.io.save_graph_geopackage(G, \"./data/derived/private/osm_roads_time.gpkg\")"
   ]
  }
 ],
 "metadata": {
  "kernelspec": {
   "display_name": "ox",
   "language": "python",
   "name": "ox"
  },
  "language_info": {
   "codemirror_mode": {
    "name": "ipython",
    "version": 3
   },
   "file_extension": ".py",
   "mimetype": "text/x-python",
   "name": "python",
   "nbconvert_exporter": "python",
   "pygments_lexer": "ipython3",
   "version": "3.12.1"
  }
 },
 "nbformat": 4,
 "nbformat_minor": 4
}
